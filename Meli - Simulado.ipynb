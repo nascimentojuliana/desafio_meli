{
 "cells": [
  {
   "cell_type": "code",
   "execution_count": 1,
   "id": "c94d0858",
   "metadata": {},
   "outputs": [],
   "source": [
    "import pandas as pd\n",
    "import matplotlib.pyplot as plt\n",
    "import seaborn as sns\n",
    "import numpy as np\n",
    "from sklearn.compose import ColumnTransformer\n",
    "import matplotlib.pyplot as plt\n",
    "from category_encoders.target_encoder import TargetEncoder\n",
    "from sklearn.ensemble import RandomForestClassifier\n",
    "from sklearn.model_selection import (GridSearchCV,KFold, train_test_split)\n",
    "from sklearn.metrics import classification_report\n",
    "from sklearn.preprocessing import StandardScaler\n",
    "from sklearn.preprocessing import MinMaxScaler\n",
    "from sklearn.preprocessing import OneHotEncoder\n",
    "from sklearn.compose import ColumnTransformer\n",
    "from sklearn.metrics import confusion_matrix"
   ]
  },
  {
   "cell_type": "code",
   "execution_count": 2,
   "id": "63d8e8af",
   "metadata": {},
   "outputs": [],
   "source": [
    "import warnings\n",
    "\n",
    "# Para ignorar todos os warnings:\n",
    "warnings.filterwarnings('ignore')"
   ]
  },
  {
   "cell_type": "markdown",
   "id": "837109ce",
   "metadata": {},
   "source": [
    "# Simulado"
   ]
  },
  {
   "cell_type": "code",
   "execution_count": 3,
   "id": "7de50c61",
   "metadata": {},
   "outputs": [],
   "source": [
    "dataset_teste = pd.read_csv('dataset_teste.csv')"
   ]
  },
  {
   "cell_type": "code",
   "execution_count": 4,
   "id": "0d93fe66",
   "metadata": {},
   "outputs": [],
   "source": [
    "import joblib\n",
    "# Carregar o modelo treinado\n",
    "modelo_carregado = joblib.load('modelo_treinado.joblib')"
   ]
  },
  {
   "cell_type": "code",
   "execution_count": 5,
   "id": "cb4372f5",
   "metadata": {},
   "outputs": [],
   "source": [
    "dataset_treino = pd.read_csv('dataset_treinamento.csv')"
   ]
  },
  {
   "cell_type": "code",
   "execution_count": 6,
   "id": "6a60c84e",
   "metadata": {},
   "outputs": [],
   "source": [
    "X_test = dataset_teste.drop(['Churn'],axis=1)\n",
    "y_test = dataset_teste[['Churn']]"
   ]
  },
  {
   "cell_type": "code",
   "execution_count": 7,
   "id": "d9e0095a",
   "metadata": {},
   "outputs": [
    {
     "data": {
      "text/plain": [
       "Churn    328\n",
       "dtype: int64"
      ]
     },
     "execution_count": 7,
     "metadata": {},
     "output_type": "execute_result"
    }
   ],
   "source": [
    "y_test.sum()"
   ]
  },
  {
   "cell_type": "code",
   "execution_count": 8,
   "id": "4b2dcbfc",
   "metadata": {},
   "outputs": [
    {
     "data": {
      "text/plain": [
       "967"
      ]
     },
     "execution_count": 8,
     "metadata": {},
     "output_type": "execute_result"
    }
   ],
   "source": [
    "len(y_test)"
   ]
  },
  {
   "cell_type": "code",
   "execution_count": 9,
   "id": "d30842e2",
   "metadata": {},
   "outputs": [
    {
     "data": {
      "text/plain": [
       "0.3391933815925543"
      ]
     },
     "execution_count": 9,
     "metadata": {},
     "output_type": "execute_result"
    }
   ],
   "source": [
    "328/967"
   ]
  },
  {
   "cell_type": "code",
   "execution_count": 10,
   "id": "73df8118",
   "metadata": {},
   "outputs": [],
   "source": [
    "columns_to_encoder=['Phone_service', 'Multiple_Lines', 'Internet_Service', 'Internet_Type',\n",
    "       'Online_Security', 'Online_Backup', 'Device_Protection_Plan',\n",
    "       'Premium_Tech_Support', 'Streaming_TV', 'Streaming_Movies',\n",
    "       'Streaming_Music', 'Unlimited_Data', 'Contract', 'Paperless_Billing',\n",
    "       'Payment_Method']"
   ]
  },
  {
   "cell_type": "code",
   "execution_count": 11,
   "id": "7f6ec63e",
   "metadata": {},
   "outputs": [],
   "source": [
    "encoder = OneHotEncoder(sparse=False, handle_unknown='ignore', drop='first')\n",
    "\n",
    "encoded_data = encoder.fit_transform(X_test[columns_to_encoder])\n",
    "\n",
    "encoded_feature_names = encoder.get_feature_names_out(input_features=columns_to_encoder)\n",
    "\n",
    "encoded_df = pd.DataFrame(encoded_data, columns=encoded_feature_names)"
   ]
  },
  {
   "cell_type": "code",
   "execution_count": 12,
   "id": "db50ab2f",
   "metadata": {},
   "outputs": [],
   "source": [
    "X_test_encoded = X_test.drop(columns_to_encoder, axis=1)"
   ]
  },
  {
   "cell_type": "code",
   "execution_count": 13,
   "id": "1bc9c73f",
   "metadata": {},
   "outputs": [],
   "source": [
    "df_encoded = pd.concat([X_test_encoded, encoded_df], axis=1)"
   ]
  },
  {
   "cell_type": "code",
   "execution_count": 14,
   "id": "85a9beed",
   "metadata": {},
   "outputs": [
    {
     "data": {
      "text/plain": [
       "Index(['Phone_service', 'Multiple_Lines', 'Internet_Service', 'Internet_Type',\n",
       "       'Online_Security', 'Online_Backup', 'Device_Protection_Plan',\n",
       "       'Premium_Tech_Support', 'Streaming_TV', 'Streaming_Movies',\n",
       "       'Streaming_Music', 'Unlimited_Data', 'Contract', 'Paperless_Billing',\n",
       "       'Payment_Method', 'Age_s', 'Number_Dependents_s', 'Number_Referrals_s',\n",
       "       'Tenure_s', 'Average_Monthly_Long_Distance_Charges_s',\n",
       "       'Average_Monthly_GB_Download_s', 'Monthly_Charge_s', 'Total_Charges_s',\n",
       "       'Total_Refunds_s', 'Total_Extra_Data_Charges_s',\n",
       "       'Total_Long_Distance_Charges_s'],\n",
       "      dtype='object')"
      ]
     },
     "execution_count": 14,
     "metadata": {},
     "output_type": "execute_result"
    }
   ],
   "source": [
    "X_test.columns"
   ]
  },
  {
   "cell_type": "code",
   "execution_count": 26,
   "id": "e49021e6",
   "metadata": {},
   "outputs": [],
   "source": [
    "y_pred = modelo_carregado.predict(X_test)"
   ]
  },
  {
   "cell_type": "code",
   "execution_count": 27,
   "id": "29242c3e",
   "metadata": {},
   "outputs": [],
   "source": [
    "y_pred = pd.DataFrame(y_pred, columns = ['predict'])"
   ]
  },
  {
   "cell_type": "code",
   "execution_count": 28,
   "id": "b9c7a0b5",
   "metadata": {},
   "outputs": [],
   "source": [
    "predict_refatorado = pd.concat([X_test,y_pred], axis=1)"
   ]
  },
  {
   "cell_type": "code",
   "execution_count": 29,
   "id": "bc787276",
   "metadata": {},
   "outputs": [
    {
     "data": {
      "text/plain": [
       "437"
      ]
     },
     "execution_count": 29,
     "metadata": {},
     "output_type": "execute_result"
    }
   ],
   "source": [
    "len(list(filter(lambda x: x == 1, y_pred.predict)))"
   ]
  },
  {
   "cell_type": "code",
   "execution_count": 46,
   "id": "c9bb30bb",
   "metadata": {},
   "outputs": [
    {
     "data": {
      "text/plain": [
       "266.57"
      ]
     },
     "execution_count": 46,
     "metadata": {},
     "output_type": "execute_result"
    }
   ],
   "source": [
    "0.61*437"
   ]
  },
  {
   "cell_type": "code",
   "execution_count": 47,
   "id": "4f73819e",
   "metadata": {},
   "outputs": [
    {
     "data": {
      "text/plain": [
       "0.2756670113753878"
      ]
     },
     "execution_count": 47,
     "metadata": {},
     "output_type": "execute_result"
    }
   ],
   "source": [
    "266.57/967"
   ]
  },
  {
   "cell_type": "code",
   "execution_count": 30,
   "id": "2961bf48",
   "metadata": {},
   "outputs": [],
   "source": [
    "predict_refatorado = predict_refatorado[(predict_refatorado['predict'] == 1)]"
   ]
  },
  {
   "cell_type": "code",
   "execution_count": 31,
   "id": "51586f85",
   "metadata": {},
   "outputs": [],
   "source": [
    "predict_refatorado['Online_Security'] = predict_refatorado['Online_Security'].replace('No', 'Yes')\n",
    "predict_refatorado['Online_Backup'] = predict_refatorado['Online_Backup'].replace('No', 'Yes')\n",
    "predict_refatorado['Device_Protection_Plan'] = predict_refatorado['Device_Protection_Plan'].replace('No', 'Yes')\n",
    "predict_refatorado['Premium_Tech_Support'] = predict_refatorado['Premium_Tech_Support'].replace('No', 'Yes')\n",
    "predict_refatorado['Streaming_TV'] = predict_refatorado['Streaming_TV'].replace('No', 'Yes')\n",
    "predict_refatorado['Streaming_Movies'] = predict_refatorado['Streaming_Movies'].replace('No', 'Yes')\n",
    "predict_refatorado['Streaming_Music'] = predict_refatorado['Streaming_Music'].replace('No', 'Yes')\n",
    "predict_refatorado['Contract'] = predict_refatorado['Contract'].replace('Mensal', 'Teo Year')\n",
    "predict_refatorado['Payment_Method'] = 'Credit Card'\n",
    "predict_refatorado['Phone_service'] = predict_refatorado['Phone_service'].replace('No', 'Yes')"
   ]
  },
  {
   "cell_type": "code",
   "execution_count": 32,
   "id": "21a0f33d",
   "metadata": {},
   "outputs": [],
   "source": [
    "y_pred = modelo_carregado.predict(predict_refatorado)"
   ]
  },
  {
   "cell_type": "code",
   "execution_count": 35,
   "id": "72f2472e",
   "metadata": {},
   "outputs": [],
   "source": [
    "y_pred = pd.DataFrame(y_pred, columns = ['predict'])"
   ]
  },
  {
   "cell_type": "code",
   "execution_count": 36,
   "id": "78b5360a",
   "metadata": {},
   "outputs": [
    {
     "data": {
      "text/plain": [
       "227"
      ]
     },
     "execution_count": 36,
     "metadata": {},
     "output_type": "execute_result"
    }
   ],
   "source": [
    "len(list(filter(lambda x: x == 1, y_pred.predict)))"
   ]
  },
  {
   "cell_type": "code",
   "execution_count": 43,
   "id": "a8e2aea7",
   "metadata": {},
   "outputs": [
    {
     "data": {
      "text/plain": [
       "138.47"
      ]
     },
     "execution_count": 43,
     "metadata": {},
     "output_type": "execute_result"
    }
   ],
   "source": [
    "0.61*227"
   ]
  },
  {
   "cell_type": "code",
   "execution_count": 44,
   "id": "951a7b01",
   "metadata": {},
   "outputs": [
    {
     "data": {
      "text/plain": [
       "0.14319544984488108"
      ]
     },
     "execution_count": 44,
     "metadata": {},
     "output_type": "execute_result"
    }
   ],
   "source": [
    "138.47/967"
   ]
  },
  {
   "cell_type": "code",
   "execution_count": 48,
   "id": "28e6a99e",
   "metadata": {},
   "outputs": [
    {
     "data": {
      "text/plain": [
       "0.5194508009153318"
      ]
     },
     "execution_count": 48,
     "metadata": {},
     "output_type": "execute_result"
    }
   ],
   "source": [
    "138.47/266.57"
   ]
  }
 ],
 "metadata": {
  "kernelspec": {
   "display_name": "Python 3 (ipykernel)",
   "language": "python",
   "name": "python3"
  },
  "language_info": {
   "codemirror_mode": {
    "name": "ipython",
    "version": 3
   },
   "file_extension": ".py",
   "mimetype": "text/x-python",
   "name": "python",
   "nbconvert_exporter": "python",
   "pygments_lexer": "ipython3",
   "version": "3.11.5"
  }
 },
 "nbformat": 4,
 "nbformat_minor": 5
}
