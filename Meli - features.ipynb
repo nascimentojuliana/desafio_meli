{
 "cells": [
  {
   "cell_type": "code",
   "execution_count": 1,
   "id": "c94d0858",
   "metadata": {},
   "outputs": [],
   "source": [
    "import pandas as pd\n",
    "import seaborn as sns\n",
    "from sklearn.model_selection import train_test_split\n",
    "import numpy as np\n",
    "from sklearn.compose import ColumnTransformer\n",
    "import matplotlib.pyplot as plt\n",
    "from category_encoders.target_encoder import TargetEncoder\n",
    "from sklearn.ensemble import RandomForestClassifier\n",
    "from sklearn.model_selection import (GridSearchCV,KFold, train_test_split)\n",
    "from sklearn.metrics import classification_report\n",
    "from sklearn.preprocessing import StandardScaler\n",
    "from sklearn.preprocessing import MinMaxScaler\n",
    "from sklearn.preprocessing import OneHotEncoder\n",
    "from sklearn.compose import ColumnTransformer\n",
    "from imblearn.over_sampling import SMOTE\n",
    "from imblearn.pipeline import make_pipeline"
   ]
  },
  {
   "cell_type": "code",
   "execution_count": 2,
   "id": "f958038c",
   "metadata": {},
   "outputs": [],
   "source": [
    "pd.set_option('display.max_columns', None)"
   ]
  },
  {
   "cell_type": "code",
   "execution_count": 3,
   "id": "63d8e8af",
   "metadata": {},
   "outputs": [],
   "source": [
    "import warnings\n",
    "warnings.filterwarnings('ignore')"
   ]
  },
  {
   "cell_type": "code",
   "execution_count": 4,
   "id": "528a4976",
   "metadata": {},
   "outputs": [],
   "source": [
    "df = pd.read_csv('df_pre_tratado.csv')"
   ]
  },
  {
   "cell_type": "code",
   "execution_count": 5,
   "id": "062f4ebd",
   "metadata": {},
   "outputs": [
    {
     "data": {
      "text/plain": [
       "(7043, 41)"
      ]
     },
     "execution_count": 5,
     "metadata": {},
     "output_type": "execute_result"
    }
   ],
   "source": [
    "df.shape"
   ]
  },
  {
   "cell_type": "code",
   "execution_count": 6,
   "id": "a668f30d",
   "metadata": {},
   "outputs": [
    {
     "data": {
      "text/plain": [
       "Customer_ID                                 0\n",
       "Gender                                      0\n",
       "Age                                         0\n",
       "Married                                     0\n",
       "Number_Dependents                           0\n",
       "City                                        0\n",
       "Zip_Code                                    0\n",
       "Latitude                                    0\n",
       "Longtitude                                  0\n",
       "Number_Referrals                            0\n",
       "Tenure                                      0\n",
       "Offer                                    3877\n",
       "Phone_service                               0\n",
       "Average_Monthly_Long_Distance_Charges     682\n",
       "Multiple_Lines                            682\n",
       "Internet_Service                            0\n",
       "Internet_Type                            1526\n",
       "Average_Monthly_GB_Download              1526\n",
       "Online_Security                          1526\n",
       "Online_Backup                            1526\n",
       "Device_Protection_Plan                   1526\n",
       "Premium_Tech_Support                     1526\n",
       "Streaming_TV                             1526\n",
       "Streaming_Movies                         1526\n",
       "Streaming_Music                          1526\n",
       "Unlimited_Data                           1526\n",
       "Contract                                    0\n",
       "Paperless_Billing                           0\n",
       "Payment_Method                              0\n",
       "Monthly_Charge                              0\n",
       "Total_Charges                               0\n",
       "Total_Refunds                               0\n",
       "Total_Extra_Data_Charges                    0\n",
       "Total_Long_Distance_Charges                 0\n",
       "Total_Revenue                               0\n",
       "Customer_Status                             0\n",
       "Churn_Category                           5174\n",
       "Churn_Reason                             5174\n",
       "Tenure_bins                                 0\n",
       "Monthly_Charge_bins                         0\n",
       "Age_bins                                    0\n",
       "dtype: int64"
      ]
     },
     "execution_count": 6,
     "metadata": {},
     "output_type": "execute_result"
    }
   ],
   "source": [
    "df.isnull().sum()"
   ]
  },
  {
   "cell_type": "code",
   "execution_count": 7,
   "id": "fefd894f",
   "metadata": {},
   "outputs": [],
   "source": [
    "df = df[df['Premium_Tech_Support'].notnull()] "
   ]
  },
  {
   "cell_type": "code",
   "execution_count": 8,
   "id": "797df58a",
   "metadata": {},
   "outputs": [
    {
     "data": {
      "text/plain": [
       "Customer_ID                                 0\n",
       "Gender                                      0\n",
       "Age                                         0\n",
       "Married                                     0\n",
       "Number_Dependents                           0\n",
       "City                                        0\n",
       "Zip_Code                                    0\n",
       "Latitude                                    0\n",
       "Longtitude                                  0\n",
       "Number_Referrals                            0\n",
       "Tenure                                      0\n",
       "Offer                                    3024\n",
       "Phone_service                               0\n",
       "Average_Monthly_Long_Distance_Charges     682\n",
       "Multiple_Lines                            682\n",
       "Internet_Service                            0\n",
       "Internet_Type                               0\n",
       "Average_Monthly_GB_Download                 0\n",
       "Online_Security                             0\n",
       "Online_Backup                               0\n",
       "Device_Protection_Plan                      0\n",
       "Premium_Tech_Support                        0\n",
       "Streaming_TV                                0\n",
       "Streaming_Movies                            0\n",
       "Streaming_Music                             0\n",
       "Unlimited_Data                              0\n",
       "Contract                                    0\n",
       "Paperless_Billing                           0\n",
       "Payment_Method                              0\n",
       "Monthly_Charge                              0\n",
       "Total_Charges                               0\n",
       "Total_Refunds                               0\n",
       "Total_Extra_Data_Charges                    0\n",
       "Total_Long_Distance_Charges                 0\n",
       "Total_Revenue                               0\n",
       "Customer_Status                             0\n",
       "Churn_Category                           3761\n",
       "Churn_Reason                             3761\n",
       "Tenure_bins                                 0\n",
       "Monthly_Charge_bins                         0\n",
       "Age_bins                                    0\n",
       "dtype: int64"
      ]
     },
     "execution_count": 8,
     "metadata": {},
     "output_type": "execute_result"
    }
   ],
   "source": [
    "df.isnull().sum()"
   ]
  },
  {
   "cell_type": "code",
   "execution_count": 10,
   "id": "b78e3740",
   "metadata": {},
   "outputs": [],
   "source": [
    "df = df[df['Average_Monthly_Long_Distance_Charges'].notnull()] "
   ]
  },
  {
   "cell_type": "code",
   "execution_count": 11,
   "id": "7ba2e3ab",
   "metadata": {},
   "outputs": [
    {
     "data": {
      "text/plain": [
       "Index(['Customer_ID', 'Gender', 'Age', 'Married', 'Number_Dependents', 'City',\n",
       "       'Zip_Code', 'Latitude', 'Longtitude', 'Number_Referrals', 'Tenure',\n",
       "       'Offer', 'Phone_service', 'Average_Monthly_Long_Distance_Charges',\n",
       "       'Multiple_Lines', 'Internet_Service', 'Internet_Type',\n",
       "       'Average_Monthly_GB_Download', 'Online_Security', 'Online_Backup',\n",
       "       'Device_Protection_Plan', 'Premium_Tech_Support', 'Streaming_TV',\n",
       "       'Streaming_Movies', 'Streaming_Music', 'Unlimited_Data', 'Contract',\n",
       "       'Paperless_Billing', 'Payment_Method', 'Monthly_Charge',\n",
       "       'Total_Charges', 'Total_Refunds', 'Total_Extra_Data_Charges',\n",
       "       'Total_Long_Distance_Charges', 'Total_Revenue', 'Customer_Status',\n",
       "       'Churn_Category', 'Churn_Reason', 'Tenure_bins', 'Monthly_Charge_bins',\n",
       "       'Age_bins'],\n",
       "      dtype='object')"
      ]
     },
     "execution_count": 11,
     "metadata": {},
     "output_type": "execute_result"
    }
   ],
   "source": [
    "df.columns"
   ]
  },
  {
   "cell_type": "code",
   "execution_count": 12,
   "id": "d6632017",
   "metadata": {},
   "outputs": [],
   "source": [
    "columns_to_model = ['Age', 'Number_Dependents', 'Number_Referrals', 'Tenure',\n",
    "       'Phone_service', 'Average_Monthly_Long_Distance_Charges',\n",
    "       'Multiple_Lines', 'Internet_Service', 'Internet_Type',\n",
    "       'Average_Monthly_GB_Download', 'Online_Security', 'Online_Backup',\n",
    "       'Device_Protection_Plan', 'Premium_Tech_Support', 'Streaming_TV',\n",
    "       'Streaming_Movies', 'Streaming_Music', 'Unlimited_Data', 'Contract',\n",
    "       'Paperless_Billing', 'Payment_Method', 'Monthly_Charge',\n",
    "       'Total_Charges', 'Total_Refunds', 'Total_Extra_Data_Charges',\n",
    "       'Total_Long_Distance_Charges', 'Total_Revenue']"
   ]
  },
  {
   "cell_type": "code",
   "execution_count": 13,
   "id": "34636a1d",
   "metadata": {},
   "outputs": [],
   "source": [
    "def split(data, target_variable):\n",
    "    X_train, X_test, y_train, y_test = train_test_split(\n",
    "                                                    data[columns_to_model], \n",
    "                                                    data[target_variable], \n",
    "                                                    stratify=data[target_variable], \n",
    "                                                    random_state=42\n",
    "                                                    )\n",
    "    return X_train, X_test, y_train, y_test"
   ]
  },
  {
   "cell_type": "code",
   "execution_count": 14,
   "id": "45a5bde2",
   "metadata": {},
   "outputs": [],
   "source": [
    "X_train, X_test, y_train, y_test = train_test_split(df[columns_to_model], df['Customer_Status'], test_size=0.2, random_state=42)"
   ]
  },
  {
   "cell_type": "code",
   "execution_count": 15,
   "id": "de75767a",
   "metadata": {},
   "outputs": [],
   "source": [
    "X_train.reset_index(drop=True, inplace=True)\n",
    "X_test.reset_index(drop=True, inplace=True)"
   ]
  },
  {
   "cell_type": "code",
   "execution_count": 16,
   "id": "e142cbf9",
   "metadata": {},
   "outputs": [],
   "source": [
    "from sklearn.preprocessing import MinMaxScaler\n",
    "selected_columns = ['Age', 'Number_Dependents', 'Number_Referrals', 'Tenure',\n",
    "        'Average_Monthly_Long_Distance_Charges',\n",
    "       'Average_Monthly_GB_Download', 'Monthly_Charge',\n",
    "       'Total_Charges', 'Total_Refunds', 'Total_Extra_Data_Charges',\n",
    "       'Total_Long_Distance_Charges', 'Total_Revenue']\n",
    "X_train_subset = X_train[selected_columns]\n",
    "scaler = MinMaxScaler()\n",
    "X_train[['Age_s', 'Number_Dependents_s', 'Number_Referrals_s', 'Tenure_s',\n",
    "        'Average_Monthly_Long_Distance_Charges_s',\n",
    "       'Average_Monthly_GB_Download_s', 'Monthly_Charge_s',\n",
    "       'Total_Charges_s', 'Total_Refunds_s', 'Total_Extra_Data_Charges_s',\n",
    "       'Total_Long_Distance_Charges_s', 'Total_Revenue']] = pd.DataFrame(scaler.fit_transform(X_train_subset), columns=selected_columns)\n",
    "X_train = X_train.drop(['Age', 'Number_Dependents', 'Number_Referrals', 'Tenure',\n",
    "        'Average_Monthly_Long_Distance_Charges',\n",
    "       'Average_Monthly_GB_Download', 'Monthly_Charge',\n",
    "       'Total_Charges', 'Total_Refunds', 'Total_Extra_Data_Charges',\n",
    "       'Total_Long_Distance_Charges', 'Total_Revenue'], axis=1)"
   ]
  },
  {
   "cell_type": "code",
   "execution_count": 17,
   "id": "00c13459",
   "metadata": {},
   "outputs": [],
   "source": [
    "min_max_params = pd.DataFrame({\n",
    "    'min': scaler.data_min_,\n",
    "    'max': scaler.data_max_\n",
    "}, index=selected_columns)\n",
    "min_max_params.to_csv('min_max_params.csv', index=False)"
   ]
  },
  {
   "cell_type": "code",
   "execution_count": 18,
   "id": "55ab93b8",
   "metadata": {},
   "outputs": [],
   "source": [
    "from sklearn.preprocessing import MinMaxScaler\n",
    "X_test_subset = X_test[selected_columns]\n",
    "scaler = MinMaxScaler()\n",
    "X_test[['Age_s', 'Number_Dependents_s', 'Number_Referrals_s', 'Tenure_s',\n",
    "        'Average_Monthly_Long_Distance_Charges_s',\n",
    "       'Average_Monthly_GB_Download_s', 'Monthly_Charge_s',\n",
    "       'Total_Charges_s', 'Total_Refunds_s', 'Total_Extra_Data_Charges_s',\n",
    "       'Total_Long_Distance_Charges_s', 'Total_Revenue']] = pd.DataFrame(scaler.fit_transform(X_test_subset), columns=selected_columns)\n",
    "X_test = X_test.drop(['Age', 'Number_Dependents', 'Number_Referrals', 'Tenure',\n",
    "        'Average_Monthly_Long_Distance_Charges',\n",
    "       'Average_Monthly_GB_Download', 'Monthly_Charge',\n",
    "       'Total_Charges', 'Total_Refunds', 'Total_Extra_Data_Charges',\n",
    "       'Total_Long_Distance_Charges', 'Total_Revenue'], axis=1)"
   ]
  },
  {
   "cell_type": "code",
   "execution_count": 19,
   "id": "b37c1117",
   "metadata": {},
   "outputs": [],
   "source": [
    "treino = pd.concat([X_train,pd.Series(list(y_train.values))], axis=1)"
   ]
  },
  {
   "cell_type": "code",
   "execution_count": 20,
   "id": "c784181f",
   "metadata": {},
   "outputs": [],
   "source": [
    "treino = treino.rename(columns={0: 'Churn'})"
   ]
  },
  {
   "cell_type": "code",
   "execution_count": 21,
   "id": "185cd87a",
   "metadata": {},
   "outputs": [],
   "source": [
    "treino.to_csv('dataset_treinamento.csv', index=False)"
   ]
  },
  {
   "cell_type": "code",
   "execution_count": 22,
   "id": "096b1deb",
   "metadata": {},
   "outputs": [],
   "source": [
    "teste = pd.concat([X_test, pd.Series(list(y_test.values))], axis=1)"
   ]
  },
  {
   "cell_type": "code",
   "execution_count": 23,
   "id": "9cbef977",
   "metadata": {},
   "outputs": [],
   "source": [
    "teste = teste.rename(columns={0: 'Churn'})"
   ]
  },
  {
   "cell_type": "code",
   "execution_count": 24,
   "id": "f74d2a02",
   "metadata": {},
   "outputs": [],
   "source": [
    "teste.to_csv('dataset_teste.csv', index=False)"
   ]
  }
 ],
 "metadata": {
  "kernelspec": {
   "display_name": "Python 3 (ipykernel)",
   "language": "python",
   "name": "python3"
  },
  "language_info": {
   "codemirror_mode": {
    "name": "ipython",
    "version": 3
   },
   "file_extension": ".py",
   "mimetype": "text/x-python",
   "name": "python",
   "nbconvert_exporter": "python",
   "pygments_lexer": "ipython3",
   "version": "3.11.5"
  }
 },
 "nbformat": 4,
 "nbformat_minor": 5
}
